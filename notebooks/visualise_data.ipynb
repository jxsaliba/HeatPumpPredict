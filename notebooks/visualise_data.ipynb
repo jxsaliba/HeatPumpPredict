{
 "cells": [
  {
   "cell_type": "code",
   "execution_count": 19,
   "metadata": {},
   "outputs": [
    {
     "ename": "ModuleNotFoundError",
     "evalue": "No module named 'notebooks'",
     "output_type": "error",
     "traceback": [
      "\u001b[0;31m---------------------------------------------------------------------------\u001b[0m",
      "\u001b[0;31mModuleNotFoundError\u001b[0m                       Traceback (most recent call last)",
      "\u001b[1;32m/home/jxsal/code/jxsaliba/HeatPumpEnergyPredict/notebooks/visualise_data_js.ipynb Cell 1\u001b[0m line \u001b[0;36m1\n\u001b[0;32m----> <a href='vscode-notebook-cell://wsl%2Bubuntu/home/jxsal/code/jxsaliba/HeatPumpEnergyPredict/notebooks/visualise_data_js.ipynb#W0sdnNjb2RlLXJlbW90ZQ%3D%3D?line=0'>1</a>\u001b[0m \u001b[39mfrom\u001b[39;00m \u001b[39mnotebooks\u001b[39;00m \u001b[39mimport\u001b[39;00m get_data\n\u001b[1;32m      <a href='vscode-notebook-cell://wsl%2Bubuntu/home/jxsal/code/jxsaliba/HeatPumpEnergyPredict/notebooks/visualise_data_js.ipynb#W0sdnNjb2RlLXJlbW90ZQ%3D%3D?line=7'>8</a>\u001b[0m \u001b[39m#os.listdir()\u001b[39;00m\n\u001b[1;32m      <a href='vscode-notebook-cell://wsl%2Bubuntu/home/jxsal/code/jxsaliba/HeatPumpEnergyPredict/notebooks/visualise_data_js.ipynb#W0sdnNjb2RlLXJlbW90ZQ%3D%3D?line=8'>9</a>\u001b[0m \n\u001b[1;32m     <a href='vscode-notebook-cell://wsl%2Bubuntu/home/jxsal/code/jxsaliba/HeatPumpEnergyPredict/notebooks/visualise_data_js.ipynb#W0sdnNjb2RlLXJlbW90ZQ%3D%3D?line=9'>10</a>\u001b[0m \u001b[39m#cwd = os.getcwd()\u001b[39;00m\n\u001b[0;32m   (...)\u001b[0m\n\u001b[1;32m     <a href='vscode-notebook-cell://wsl%2Bubuntu/home/jxsal/code/jxsaliba/HeatPumpEnergyPredict/notebooks/visualise_data_js.ipynb#W0sdnNjb2RlLXJlbW90ZQ%3D%3D?line=19'>20</a>\u001b[0m \u001b[39m#list_files = [f for f in list_files if '_old' not in f]\u001b[39;00m\n\u001b[1;32m     <a href='vscode-notebook-cell://wsl%2Bubuntu/home/jxsal/code/jxsaliba/HeatPumpEnergyPredict/notebooks/visualise_data_js.ipynb#W0sdnNjb2RlLXJlbW90ZQ%3D%3D?line=20'>21</a>\u001b[0m \u001b[39m#list_files\u001b[39;00m\n",
      "\u001b[0;31mModuleNotFoundError\u001b[0m: No module named 'notebooks'"
     ]
    }
   ],
   "source": [
    "from notebooks import get_data\n",
    "\n",
    "\n",
    "\n",
    "\n",
    "\n",
    "\n",
    "#os.listdir()\n",
    "\n",
    "#cwd = os.getcwd()\n",
    "#parent_dir = Path(os.getcwd()).parent#\n",
    "\n",
    "# Construct the path to the 'raw_data' directory\n",
    "#raw_data_dir = parent_dir / 'raw_data'\n",
    "\n",
    "# Change the current working directory to 'raw_data'\n",
    "#os.chdir(raw_data_dir)\n",
    "#list_files = os.listdir()\n",
    "#list_files = [f for f in list_files if '.csv' in f]\n",
    "#list_files = [f for f in list_files if '_old' not in f]\n",
    "#list_files\n",
    "\n",
    "\n"
   ]
  },
  {
   "cell_type": "code",
   "execution_count": null,
   "metadata": {},
   "outputs": [],
   "source": [
    "dict_filenames = {}\n",
    "\n",
    "dict_filenames['sensor'] = 'sensor.csv'\n",
    "dict_filenames['sensor_telemetry'] = 'sensor_telemetry.csv'\n",
    "dict_filenames['hub'] = 'hub.csv'\n",
    "dict_filenames['epc'] = 'epc.csv'\n"
   ]
  },
  {
   "cell_type": "code",
   "execution_count": null,
   "metadata": {},
   "outputs": [],
   "source": []
  }
 ],
 "metadata": {
  "kernelspec": {
   "display_name": "HeatPumpEnergyPredict",
   "language": "python",
   "name": "python3"
  },
  "language_info": {
   "codemirror_mode": {
    "name": "ipython",
    "version": 3
   },
   "file_extension": ".py",
   "mimetype": "text/x-python",
   "name": "python",
   "nbconvert_exporter": "python",
   "pygments_lexer": "ipython3",
   "version": "3.10.6"
  },
  "orig_nbformat": 4
 },
 "nbformat": 4,
 "nbformat_minor": 2
}
