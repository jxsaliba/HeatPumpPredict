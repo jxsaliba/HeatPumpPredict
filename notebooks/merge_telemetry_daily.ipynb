{
 "cells": [
  {
   "cell_type": "code",
   "execution_count": 1,
   "metadata": {},
   "outputs": [],
   "source": [
    "import numpy as np \n",
    "import pandas as pd\n",
    "pd.set_option('display.max_columns', None)\n",
    "\n",
    "# Data Visualisation\n",
    "import matplotlib.pyplot as plt\n",
    "import seaborn as sns\n",
    "import os\n",
    "import get_data\n",
    "import pickle"
   ]
  },
  {
   "cell_type": "code",
   "execution_count": 2,
   "metadata": {},
   "outputs": [
    {
     "data": {
      "text/plain": [
       "'/home/jxsal/code/jxsaliba/HeatPumpEnergyPredict/raw_data'"
      ]
     },
     "execution_count": 2,
     "metadata": {},
     "output_type": "execute_result"
    }
   ],
   "source": [
    "parent_folder = os.path.normpath(os.getcwd() + os.sep + os.pardir)\n",
    "root_path = (os.path.join(parent_folder,'raw_data'))\n",
    "root_path"
   ]
  },
  {
   "cell_type": "code",
   "execution_count": 3,
   "metadata": {},
   "outputs": [],
   "source": [
    "os.chdir(root_path)"
   ]
  },
  {
   "cell_type": "code",
   "execution_count": 4,
   "metadata": {},
   "outputs": [],
   "source": [
    "energy_tele = pickle.load(open('energy_tele.pkl','rb'))"
   ]
  },
  {
   "cell_type": "code",
   "execution_count": 5,
   "metadata": {},
   "outputs": [],
   "source": [
    "sensor_tele = pickle.load(open('sensor_tele.pkl','rb'))"
   ]
  },
  {
   "cell_type": "code",
   "execution_count": 6,
   "metadata": {},
   "outputs": [],
   "source": [
    "hub_tele = pickle.load(open('hub_tele.pkl','rb'))"
   ]
  },
  {
   "cell_type": "code",
   "execution_count": 7,
   "metadata": {},
   "outputs": [
    {
     "data": {
      "text/plain": [
       "['Untitled.ipynb',\n",
       " 'sensor_telemetry.csv',\n",
       " 'sensor_tele.pkl',\n",
       " 'installation.csv',\n",
       " 'hub_telemetry.csv',\n",
       " 'hub.csv',\n",
       " 'set_properties_running_Sep2022_Jan2023.pkl',\n",
       " '.ipynb_checkpoints',\n",
       " 'epc.csv',\n",
       " 'energy_sensor_telemetry.csv',\n",
       " 'hub_tele.pkl',\n",
       " 'property_old.csv',\n",
       " 'daily_df.pkl',\n",
       " 'energy_tele.pkl',\n",
       " 'property.csv',\n",
       " 'pmd_weather_humidity_energy_use.csv',\n",
       " 'sensor.csv',\n",
       " 'property_metrics_daily.csv']"
      ]
     },
     "execution_count": 7,
     "metadata": {},
     "output_type": "execute_result"
    }
   ],
   "source": [
    "os.listdir()"
   ]
  },
  {
   "cell_type": "code",
   "execution_count": 8,
   "metadata": {},
   "outputs": [],
   "source": [
    "common_set_list = pickle.load(open('set_properties_running_Sep2022_Jan2023.pkl','rb'))"
   ]
  },
  {
   "cell_type": "code",
   "execution_count": 9,
   "metadata": {},
   "outputs": [],
   "source": [
    "energy_tele = energy_tele[energy_tele['property_id'].isin(common_set_list)]"
   ]
  },
  {
   "cell_type": "code",
   "execution_count": 10,
   "metadata": {},
   "outputs": [
    {
     "name": "stdout",
     "output_type": "stream",
     "text": [
      "['WH100']\n"
     ]
    }
   ],
   "source": [
    "uniq_units = energy_tele['unit'].unique()\n",
    "print(uniq_units)"
   ]
  },
  {
   "cell_type": "code",
   "execution_count": 11,
   "metadata": {},
   "outputs": [],
   "source": [
    "hub_tele = hub_tele[hub_tele['property_id'].isin(common_set_list)]"
   ]
  },
  {
   "cell_type": "code",
   "execution_count": 12,
   "metadata": {},
   "outputs": [],
   "source": [
    "sensor_tele = sensor_tele[sensor_tele['property_id'].isin(common_set_list)]"
   ]
  },
  {
   "cell_type": "code",
   "execution_count": 13,
   "metadata": {},
   "outputs": [],
   "source": [
    "merged_df = hub_tele.merge(sensor_tele, on = ['property_id', 'occurred'], how = 'inner')\n",
    "merged_df = merged_df.merge(energy_tele, on=['property_id','occurred'], how = 'inner')\n"
   ]
  },
  {
   "cell_type": "code",
   "execution_count": 14,
   "metadata": {},
   "outputs": [
    {
     "data": {
      "text/plain": [
       "Index(['property_id', 'type', 'occurred', 'is_hot_water_on',\n",
       "       'is_heating_on_zone1', 'is_heating_on_zone2',\n",
       "       'target_temperature_zone1', 'target_temperature_zone2',\n",
       "       'weather_temperature', 'weather_humidity', 'hot_water_control',\n",
       "       'heating_control_zone1', 'heating_control_zone2', 'num_row_x',\n",
       "       'serial_number', 'hub_serial_number', 'location_x',\n",
       "       'internal_temperature', 'internal_humidity', 'num_row_y', 'location_y',\n",
       "       'unit', 'value'],\n",
       "      dtype='object')"
      ]
     },
     "execution_count": 14,
     "metadata": {},
     "output_type": "execute_result"
    }
   ],
   "source": [
    "merged_df.columns"
   ]
  },
  {
   "cell_type": "code",
   "execution_count": 15,
   "metadata": {},
   "outputs": [],
   "source": [
    "merged_df = merged_df[['property_id',\n",
    "                       'occurred',\n",
    "                       'target_temperature_zone1',\n",
    "                       'weather_temperature',\n",
    "                       'weather_humidity',\n",
    "                       'internal_temperature',\n",
    "                       'internal_humidity','value']]"
   ]
  },
  {
   "cell_type": "code",
   "execution_count": 16,
   "metadata": {},
   "outputs": [
    {
     "data": {
      "text/html": [
       "<div>\n",
       "<style scoped>\n",
       "    .dataframe tbody tr th:only-of-type {\n",
       "        vertical-align: middle;\n",
       "    }\n",
       "\n",
       "    .dataframe tbody tr th {\n",
       "        vertical-align: top;\n",
       "    }\n",
       "\n",
       "    .dataframe thead th {\n",
       "        text-align: right;\n",
       "    }\n",
       "</style>\n",
       "<table border=\"1\" class=\"dataframe\">\n",
       "  <thead>\n",
       "    <tr style=\"text-align: right;\">\n",
       "      <th></th>\n",
       "      <th>property_id</th>\n",
       "      <th>occurred</th>\n",
       "      <th>target_temperature_zone1</th>\n",
       "      <th>weather_temperature</th>\n",
       "      <th>weather_humidity</th>\n",
       "      <th>internal_temperature</th>\n",
       "      <th>internal_humidity</th>\n",
       "      <th>value</th>\n",
       "    </tr>\n",
       "  </thead>\n",
       "  <tbody>\n",
       "    <tr>\n",
       "      <th>0</th>\n",
       "      <td>20187</td>\n",
       "      <td>28/10/20 13:18</td>\n",
       "      <td>22.0</td>\n",
       "      <td>9.0</td>\n",
       "      <td>87.0</td>\n",
       "      <td>17.4</td>\n",
       "      <td>59.4</td>\n",
       "      <td>2</td>\n",
       "    </tr>\n",
       "    <tr>\n",
       "      <th>1</th>\n",
       "      <td>20187</td>\n",
       "      <td>28/10/20 13:29</td>\n",
       "      <td>22.0</td>\n",
       "      <td>9.0</td>\n",
       "      <td>87.0</td>\n",
       "      <td>18.0</td>\n",
       "      <td>57.7</td>\n",
       "      <td>2</td>\n",
       "    </tr>\n",
       "    <tr>\n",
       "      <th>2</th>\n",
       "      <td>20187</td>\n",
       "      <td>28/10/20 13:39</td>\n",
       "      <td>22.0</td>\n",
       "      <td>9.0</td>\n",
       "      <td>87.0</td>\n",
       "      <td>17.7</td>\n",
       "      <td>57.8</td>\n",
       "      <td>4</td>\n",
       "    </tr>\n",
       "  </tbody>\n",
       "</table>\n",
       "</div>"
      ],
      "text/plain": [
       "   property_id        occurred  target_temperature_zone1  weather_temperature  \\\n",
       "0        20187  28/10/20 13:18                      22.0                  9.0   \n",
       "1        20187  28/10/20 13:29                      22.0                  9.0   \n",
       "2        20187  28/10/20 13:39                      22.0                  9.0   \n",
       "\n",
       "   weather_humidity  internal_temperature  internal_humidity  value  \n",
       "0              87.0                  17.4               59.4      2  \n",
       "1              87.0                  18.0               57.7      2  \n",
       "2              87.0                  17.7               57.8      4  "
      ]
     },
     "execution_count": 16,
     "metadata": {},
     "output_type": "execute_result"
    }
   ],
   "source": [
    "merged_df.head(3)"
   ]
  },
  {
   "cell_type": "code",
   "execution_count": 17,
   "metadata": {},
   "outputs": [
    {
     "name": "stderr",
     "output_type": "stream",
     "text": [
      "/tmp/ipykernel_10033/601500091.py:1: UserWarning: Could not infer format, so each element will be parsed individually, falling back to `dateutil`. To ensure parsing is consistent and as-expected, please specify a format.\n",
      "  merged_df['occurred'] = pd.to_datetime(merged_df['occurred'],dayfirst=True)\n"
     ]
    }
   ],
   "source": [
    "merged_df['occurred'] = pd.to_datetime(merged_df['occurred'],dayfirst=True)"
   ]
  },
  {
   "cell_type": "code",
   "execution_count": 18,
   "metadata": {},
   "outputs": [
    {
     "data": {
      "text/html": [
       "<div>\n",
       "<style scoped>\n",
       "    .dataframe tbody tr th:only-of-type {\n",
       "        vertical-align: middle;\n",
       "    }\n",
       "\n",
       "    .dataframe tbody tr th {\n",
       "        vertical-align: top;\n",
       "    }\n",
       "\n",
       "    .dataframe thead th {\n",
       "        text-align: right;\n",
       "    }\n",
       "</style>\n",
       "<table border=\"1\" class=\"dataframe\">\n",
       "  <thead>\n",
       "    <tr style=\"text-align: right;\">\n",
       "      <th></th>\n",
       "      <th>property_id</th>\n",
       "      <th>occurred</th>\n",
       "      <th>target_temperature_zone1</th>\n",
       "      <th>weather_temperature</th>\n",
       "      <th>weather_humidity</th>\n",
       "      <th>internal_temperature</th>\n",
       "      <th>internal_humidity</th>\n",
       "      <th>value</th>\n",
       "    </tr>\n",
       "  </thead>\n",
       "  <tbody>\n",
       "    <tr>\n",
       "      <th>0</th>\n",
       "      <td>20187</td>\n",
       "      <td>2020-10-28 13:18:00</td>\n",
       "      <td>22.0</td>\n",
       "      <td>9.0</td>\n",
       "      <td>87.0</td>\n",
       "      <td>17.4</td>\n",
       "      <td>59.4</td>\n",
       "      <td>2</td>\n",
       "    </tr>\n",
       "    <tr>\n",
       "      <th>1</th>\n",
       "      <td>20187</td>\n",
       "      <td>2020-10-28 13:29:00</td>\n",
       "      <td>22.0</td>\n",
       "      <td>9.0</td>\n",
       "      <td>87.0</td>\n",
       "      <td>18.0</td>\n",
       "      <td>57.7</td>\n",
       "      <td>2</td>\n",
       "    </tr>\n",
       "    <tr>\n",
       "      <th>2</th>\n",
       "      <td>20187</td>\n",
       "      <td>2020-10-28 13:39:00</td>\n",
       "      <td>22.0</td>\n",
       "      <td>9.0</td>\n",
       "      <td>87.0</td>\n",
       "      <td>17.7</td>\n",
       "      <td>57.8</td>\n",
       "      <td>4</td>\n",
       "    </tr>\n",
       "    <tr>\n",
       "      <th>3</th>\n",
       "      <td>20187</td>\n",
       "      <td>2020-10-28 13:49:00</td>\n",
       "      <td>22.0</td>\n",
       "      <td>9.0</td>\n",
       "      <td>87.0</td>\n",
       "      <td>17.7</td>\n",
       "      <td>58.1</td>\n",
       "      <td>5</td>\n",
       "    </tr>\n",
       "    <tr>\n",
       "      <th>4</th>\n",
       "      <td>20187</td>\n",
       "      <td>2020-10-28 13:59:00</td>\n",
       "      <td>25.0</td>\n",
       "      <td>9.0</td>\n",
       "      <td>87.0</td>\n",
       "      <td>17.8</td>\n",
       "      <td>58.5</td>\n",
       "      <td>8</td>\n",
       "    </tr>\n",
       "  </tbody>\n",
       "</table>\n",
       "</div>"
      ],
      "text/plain": [
       "   property_id            occurred  target_temperature_zone1  \\\n",
       "0        20187 2020-10-28 13:18:00                      22.0   \n",
       "1        20187 2020-10-28 13:29:00                      22.0   \n",
       "2        20187 2020-10-28 13:39:00                      22.0   \n",
       "3        20187 2020-10-28 13:49:00                      22.0   \n",
       "4        20187 2020-10-28 13:59:00                      25.0   \n",
       "\n",
       "   weather_temperature  weather_humidity  internal_temperature  \\\n",
       "0                  9.0              87.0                  17.4   \n",
       "1                  9.0              87.0                  18.0   \n",
       "2                  9.0              87.0                  17.7   \n",
       "3                  9.0              87.0                  17.7   \n",
       "4                  9.0              87.0                  17.8   \n",
       "\n",
       "   internal_humidity  value  \n",
       "0               59.4      2  \n",
       "1               57.7      2  \n",
       "2               57.8      4  \n",
       "3               58.1      5  \n",
       "4               58.5      8  "
      ]
     },
     "execution_count": 18,
     "metadata": {},
     "output_type": "execute_result"
    }
   ],
   "source": [
    "merged_df.head()"
   ]
  },
  {
   "cell_type": "code",
   "execution_count": 19,
   "metadata": {},
   "outputs": [],
   "source": [
    "merged_df = merged_df.drop_duplicates()"
   ]
  },
  {
   "cell_type": "code",
   "execution_count": 20,
   "metadata": {},
   "outputs": [],
   "source": [
    "result = merged_df.copy()"
   ]
  },
  {
   "cell_type": "code",
   "execution_count": 21,
   "metadata": {},
   "outputs": [],
   "source": [
    "property_list = merged_df['property_id'].unique()"
   ]
  },
  {
   "cell_type": "code",
   "execution_count": 22,
   "metadata": {},
   "outputs": [],
   "source": [
    "all = []\n",
    "for property in property_list:\n",
    "    df = result[result['property_id'] == property]\n",
    "    df.loc[:,'internal_temperature']  = df['internal_temperature'].fillna(method = 'ffill')\n",
    "    df.loc[:,'internal_humidity'] = df['internal_humidity'].fillna(method = 'ffill')\n",
    "    all.append(df)\n",
    "final_results = pd.concat(all,ignore_index=True)"
   ]
  },
  {
   "cell_type": "code",
   "execution_count": 23,
   "metadata": {},
   "outputs": [
    {
     "data": {
      "text/plain": [
       "Index(['property_id', 'occurred', 'target_temperature_zone1',\n",
       "       'weather_temperature', 'weather_humidity', 'internal_temperature',\n",
       "       'internal_humidity', 'value'],\n",
       "      dtype='object')"
      ]
     },
     "execution_count": 23,
     "metadata": {},
     "output_type": "execute_result"
    }
   ],
   "source": [
    "final_results.columns"
   ]
  },
  {
   "cell_type": "code",
   "execution_count": 24,
   "metadata": {},
   "outputs": [],
   "source": [
    "daily_df = pickle.load(open('daily_df.pkl','rb'))"
   ]
  },
  {
   "cell_type": "code",
   "execution_count": 25,
   "metadata": {},
   "outputs": [],
   "source": [
    "daily_df = daily_df[daily_df['property_id'].isin(property_list)]"
   ]
  },
  {
   "cell_type": "code",
   "execution_count": 26,
   "metadata": {},
   "outputs": [
    {
     "data": {
      "text/plain": [
       "Index(['property_id', 'hub_id', 'zone', 'id', 'type', 'occupied',\n",
       "       'heating_system', 'heating_system_manufacturer',\n",
       "       'heating_system_model_no', 'number_of_zones', 'occurred',\n",
       "       'number_of_paired_sensors', 'lodgement_date',\n",
       "       'current_energy_efficiency', 'property_type', 'built_form',\n",
       "       'floor_description', 'windows_description', 'walls_description',\n",
       "       'roof_description', 'number_habitable_rooms', 'number_heated_rooms',\n",
       "       'total_floor_area', 'context_date', 'reported_hlr', 'reported_tth',\n",
       "       'total_daily_sensor_readings', 'daily_avg_room_humidty',\n",
       "       'daily_avg_room_temperature', 'daily_avg_weather_temperature',\n",
       "       'daily_max_target_temperature', 'daily_total_delta_energy_meter_use',\n",
       "       'daily_total_heating_use', 'reported_fuel_poverty_percentage',\n",
       "       'daily_temp_below18c_total_sensor_readings', 'hub_type'],\n",
       "      dtype='object')"
      ]
     },
     "execution_count": 26,
     "metadata": {},
     "output_type": "execute_result"
    }
   ],
   "source": [
    "daily_df.columns"
   ]
  },
  {
   "cell_type": "code",
   "execution_count": 27,
   "metadata": {},
   "outputs": [],
   "source": [
    "daily_df_rdx = daily_df[['property_id','context_date',\n",
    "                         'current_energy_efficiency',\n",
    "                         'number_habitable_rooms',\n",
    "                         'total_floor_area',\n",
    "                         'reported_hlr','reported_tth','reported_fuel_poverty_percentage']]"
   ]
  },
  {
   "cell_type": "code",
   "execution_count": 28,
   "metadata": {},
   "outputs": [],
   "source": [
    "final_results['context_date'] = final_results['occurred'].dt.date"
   ]
  },
  {
   "cell_type": "code",
   "execution_count": 29,
   "metadata": {},
   "outputs": [
    {
     "data": {
      "text/html": [
       "<div>\n",
       "<style scoped>\n",
       "    .dataframe tbody tr th:only-of-type {\n",
       "        vertical-align: middle;\n",
       "    }\n",
       "\n",
       "    .dataframe tbody tr th {\n",
       "        vertical-align: top;\n",
       "    }\n",
       "\n",
       "    .dataframe thead th {\n",
       "        text-align: right;\n",
       "    }\n",
       "</style>\n",
       "<table border=\"1\" class=\"dataframe\">\n",
       "  <thead>\n",
       "    <tr style=\"text-align: right;\">\n",
       "      <th></th>\n",
       "      <th>property_id</th>\n",
       "      <th>occurred</th>\n",
       "      <th>target_temperature_zone1</th>\n",
       "      <th>weather_temperature</th>\n",
       "      <th>weather_humidity</th>\n",
       "      <th>internal_temperature</th>\n",
       "      <th>internal_humidity</th>\n",
       "      <th>value</th>\n",
       "      <th>context_date</th>\n",
       "    </tr>\n",
       "  </thead>\n",
       "  <tbody>\n",
       "    <tr>\n",
       "      <th>0</th>\n",
       "      <td>20187</td>\n",
       "      <td>2020-10-28 13:18:00</td>\n",
       "      <td>22.0</td>\n",
       "      <td>9.0</td>\n",
       "      <td>87.0</td>\n",
       "      <td>17.4</td>\n",
       "      <td>59.4</td>\n",
       "      <td>2</td>\n",
       "      <td>2020-10-28</td>\n",
       "    </tr>\n",
       "    <tr>\n",
       "      <th>1</th>\n",
       "      <td>20187</td>\n",
       "      <td>2020-10-28 13:29:00</td>\n",
       "      <td>22.0</td>\n",
       "      <td>9.0</td>\n",
       "      <td>87.0</td>\n",
       "      <td>18.0</td>\n",
       "      <td>57.7</td>\n",
       "      <td>2</td>\n",
       "      <td>2020-10-28</td>\n",
       "    </tr>\n",
       "  </tbody>\n",
       "</table>\n",
       "</div>"
      ],
      "text/plain": [
       "   property_id            occurred  target_temperature_zone1  \\\n",
       "0        20187 2020-10-28 13:18:00                      22.0   \n",
       "1        20187 2020-10-28 13:29:00                      22.0   \n",
       "\n",
       "   weather_temperature  weather_humidity  internal_temperature  \\\n",
       "0                  9.0              87.0                  17.4   \n",
       "1                  9.0              87.0                  18.0   \n",
       "\n",
       "   internal_humidity  value context_date  \n",
       "0               59.4      2   2020-10-28  \n",
       "1               57.7      2   2020-10-28  "
      ]
     },
     "execution_count": 29,
     "metadata": {},
     "output_type": "execute_result"
    }
   ],
   "source": [
    "final_results.head(2)"
   ]
  },
  {
   "cell_type": "code",
   "execution_count": 30,
   "metadata": {},
   "outputs": [],
   "source": [
    "merged_df.to_pickle('merged_telemetry.pkl')\n",
    "daily_df_rdx.to_pickle('daily_df_rdx.pkl')"
   ]
  }
 ],
 "metadata": {
  "kernelspec": {
   "display_name": "HeatPumpEnergyPredict",
   "language": "python",
   "name": "python3"
  },
  "language_info": {
   "codemirror_mode": {
    "name": "ipython",
    "version": 3
   },
   "file_extension": ".py",
   "mimetype": "text/x-python",
   "name": "python",
   "nbconvert_exporter": "python",
   "pygments_lexer": "ipython3",
   "version": "3.10.6"
  },
  "orig_nbformat": 4
 },
 "nbformat": 4,
 "nbformat_minor": 2
}
